{
 "cells": [
  {
   "cell_type": "code",
   "execution_count": 156,
   "id": "4e19e83e-c458-4158-8112-bc5234610915",
   "metadata": {},
   "outputs": [],
   "source": [
    "import pandas as pd\n",
    "import itertools"
   ]
  },
  {
   "cell_type": "code",
   "execution_count": 157,
   "id": "cf90f2e1-2621-4cf3-b406-5b34bdba9288",
   "metadata": {},
   "outputs": [
    {
     "name": "stderr",
     "output_type": "stream",
     "text": [
      "/var/folders/ss/hgshyw356p70rkpdn9mz53kr0000gn/T/ipykernel_7626/2413830639.py:1: DtypeWarning: Columns (8,9,20,29,30,32,33,54,56,59,65) have mixed types. Specify dtype option on import or set low_memory=False.\n",
      "  budburst_observations_df = pd.read_csv('budburst_observations_1689952233.csv')\n"
     ]
    }
   ],
   "source": [
    "budburst_observations_df = pd.read_csv('budburst_observations_1689952233.csv')\n",
    "budburst_observations_df[\"observation_date\"] = pd.to_datetime(budburst_observations_df[\"observation_date\"], format=\"%m/%d/%Y\")"
   ]
  },
  {
   "cell_type": "code",
   "execution_count": 158,
   "id": "1cf051b1-38c5-4dcb-ab52-aa83d151f417",
   "metadata": {},
   "outputs": [],
   "source": [
    "budburst_observations_df[\"observation_year\"] = budburst_observations_df[\"observation_date\"].dt.year"
   ]
  },
  {
   "cell_type": "code",
   "execution_count": 159,
   "id": "79fec5c8-97ba-4db6-9e8b-da1797465114",
   "metadata": {},
   "outputs": [],
   "source": [
    "budburst_observations_df[\"observation_quarter\"] = budburst_observations_df[\"observation_date\"].dt.quarter"
   ]
  },
  {
   "cell_type": "code",
   "execution_count": 160,
   "id": "e0ee5dfd-6ce8-4ce0-855f-c72f69c1ad89",
   "metadata": {},
   "outputs": [
    {
     "data": {
      "text/plain": [
       "2    44244\n",
       "4    29147\n",
       "3    21764\n",
       "1    14999\n",
       "Name: observation_quarter, dtype: int64"
      ]
     },
     "execution_count": 160,
     "metadata": {},
     "output_type": "execute_result"
    }
   ],
   "source": [
    "# Data is skewed such that some months have far more observations than other months\n",
    "budburst_observations_df['observation_quarter'].value_counts()"
   ]
  },
  {
   "cell_type": "code",
   "execution_count": 162,
   "id": "4bb69b39-4818-434b-b355-fa20618bfe9a",
   "metadata": {},
   "outputs": [
    {
     "name": "stdout",
     "output_type": "stream",
     "text": [
      "\n",
      "These are the species that you can use just budburst data to study.\n",
      "\n",
      "Assumptions:\n",
      "    - (Arbitrarily) 20 observations per quarter needed \n",
      "    - Starting from 2017, each quarter must have the requisite number of species observations\n",
      "    \n",
      "Does not take into account geographic location\n",
      "\n",
      "['eastern redbud']\n"
     ]
    }
   ],
   "source": [
    "start_year = 2017\n",
    "observations_needed = 20\n",
    "\n",
    "print(f\"\"\"\n",
    "These are the species that you can use just budburst data to study.\n",
    "\n",
    "Assumptions:\n",
    "    - (Arbitrarily) {observations_needed} observations per quarter needed \n",
    "    - Starting from {start_year}, each quarter must have the requisite number of species observations\n",
    "    \n",
    "Does not take into account geographic location\n",
    "\"\"\")\n",
    "\n",
    "budburst_observations_df_after_cutoff = budburst_observations_df[budburst_observations_df['observation_year'] >= start_year]\n",
    "data_percentage_kept = budburst_observations_df_after_cutoff['observation_year'].count() / budburst_observations_df['observation_year'].count()\n",
    "\n",
    "df = budburst_observations_df_after_cutoff.groupby(['common_name', 'observation_year', 'observation_quarter'])['species_id'].size().reset_index(name='counts')\n",
    "df = df[df['counts'] >= observations_needed]\n",
    "\n",
    "year = range(start_year, 2023)\n",
    "quarter = [1, 2, 3, 4]\n",
    "complete_list_of_month_year_combinations = list(itertools.product(quarter, year))\n",
    "\n",
    "potential_species = df['common_name'].unique()\n",
    "qualifying_species = []\n",
    "\n",
    "def observation_exists(common_name, observation_quarter, observation_year):\n",
    "    try:\n",
    "        df.loc[(df['common_name'] == common_name) & (df['observation_quarter'] == observation_quarter) & (df['observation_year'] == observation_year)].iloc[0]\n",
    "    except IndexError:\n",
    "        return False\n",
    "    return True\n",
    "\n",
    "def all_observations_exist(common_name):\n",
    "    for observation_quarter, observation_year in complete_list_of_month_year_combinations:\n",
    "        if not observation_exists(common_name, observation_quarter, observation_year):\n",
    "            return False\n",
    "    \n",
    "    return True\n",
    "\n",
    "for common_name in potential_species:\n",
    "    if all_observations_exist(common_name):\n",
    "        qualifying_species.append(common_name)\n",
    "        \n",
    "print(qualifying_species)"
   ]
  },
  {
   "cell_type": "code",
   "execution_count": null,
   "id": "abf7136f-1467-4423-b90c-33911754ef10",
   "metadata": {},
   "outputs": [],
   "source": []
  }
 ],
 "metadata": {
  "kernelspec": {
   "display_name": "Python 3 (ipykernel)",
   "language": "python",
   "name": "python3"
  },
  "language_info": {
   "codemirror_mode": {
    "name": "ipython",
    "version": 3
   },
   "file_extension": ".py",
   "mimetype": "text/x-python",
   "name": "python",
   "nbconvert_exporter": "python",
   "pygments_lexer": "ipython3",
   "version": "3.10.4"
  }
 },
 "nbformat": 4,
 "nbformat_minor": 5
}
